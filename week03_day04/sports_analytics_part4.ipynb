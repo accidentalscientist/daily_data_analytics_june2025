{
 "cells": [
  {
   "cell_type": "code",
   "execution_count": 2,
   "id": "74926529",
   "metadata": {},
   "outputs": [
    {
     "name": "stdout",
     "output_type": "stream",
     "text": [
      "Available sheets: ['alexis_mcallister', 'curits_jones', 'ryan_gravenberch', 'dominik_szoboszlai']\n"
     ]
    }
   ],
   "source": [
    "# import it \n",
    "import pandas as pd\n",
    "import numpy as np\n",
    "import matplotlib.pyplot as plt\n",
    "import seaborn as sns\n",
    "\n",
    "# load the dataset\n",
    "file_path = \"liv_midfield_scouting_fbref.xlsx\"\n",
    "xls = pd.ExcelFile(file_path)\n",
    "sheet_names = xls.sheet_names\n",
    "print(\"Available sheets:\", sheet_names)"
   ]
  },
  {
   "cell_type": "code",
   "execution_count": null,
   "id": "a0177acc",
   "metadata": {},
   "outputs": [],
   "source": []
  },
  {
   "cell_type": "code",
   "execution_count": null,
   "id": "85386d26",
   "metadata": {},
   "outputs": [],
   "source": []
  },
  {
   "cell_type": "code",
   "execution_count": null,
   "id": "5d298c72",
   "metadata": {},
   "outputs": [],
   "source": []
  },
  {
   "cell_type": "code",
   "execution_count": null,
   "id": "92c83445",
   "metadata": {},
   "outputs": [],
   "source": []
  }
 ],
 "metadata": {
  "kernelspec": {
   "display_name": ".venv",
   "language": "python",
   "name": "python3"
  },
  "language_info": {
   "codemirror_mode": {
    "name": "ipython",
    "version": 3
   },
   "file_extension": ".py",
   "mimetype": "text/x-python",
   "name": "python",
   "nbconvert_exporter": "python",
   "pygments_lexer": "ipython3",
   "version": "3.12.5"
  }
 },
 "nbformat": 4,
 "nbformat_minor": 5
}
